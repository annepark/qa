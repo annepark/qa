{
 "cells": [
  {
   "cell_type": "markdown",
   "metadata": {},
   "source": [
    "# rsfMRI Preprocessing QA Notebook\n",
    "---\n",
    "Notebook for visualizing quality assurance outputs of the [Nipype resting state preprocessing script](https://github.com/gablab/openfmri/blob/openfmri/resting_state/rsfmri_vol_surface_preprocessing_nipy.py):\n",
    "- registration (structural to MNI template: ANTS)\n",
    "- ART outliers\n",
    "- segmentation masks (produced by FAST; used during noise filtering (aCompCor))\n",
    "- Topup (to be added)\n",
    "\n",
    "The cells will display either brain slices or plots that allow for quick detection of potential problems. You must run the first 3 cells in order to use the rest of the notebook. \n",
    "\n",
    "You can also use this notebook to extract the average time series from specific aparc ROIs. \n",
    "\n",
    "See below for required packages.\n",
    "\n",
    "(*updated Sep 3, 2016*)"
   ]
  },
  {
   "cell_type": "code",
   "execution_count": null,
   "metadata": {
    "collapsed": true
   },
   "outputs": [],
   "source": [
    "%matplotlib inline\n",
    "\n",
    "import os\n",
    "import glob\n",
    "import re\n",
    "import fnmatch\n",
    "import nilearn.plotting as nlp\n",
    "import matplotlib.pyplot as plt\n",
    "import nibabel as nb\n",
    "import numpy as np\n",
    "import pandas as pd\n",
    "import seaborn as sns\n",
    "\n",
    "import warnings"
   ]
  },
  {
   "cell_type": "markdown",
   "metadata": {},
   "source": [
    "### Project-specific variables to change ###"
   ]
  },
  {
   "cell_type": "code",
   "execution_count": 133,
   "metadata": {
    "collapsed": false
   },
   "outputs": [],
   "source": [
    "rsfmri_dir = '/path/to/rsfmri/dir/'\n",
    "subj_prefix = 'EF_*'\n",
    "subj_subset = ['EF_212', 'EF_213', 'EF_214', 'EF_215', 'EF_216'] \n",
    "              # set to None to see all subjects\n",
    "outlier_threshold = 20    # percent \n",
    "ran_topup = False   # set to True if TOPUP was used"
   ]
  },
  {
   "cell_type": "markdown",
   "metadata": {},
   "source": [
    "### Setting up subject list and # of vols for later use ###"
   ]
  },
  {
   "cell_type": "code",
   "execution_count": null,
   "metadata": {
    "collapsed": false
   },
   "outputs": [],
   "source": [
    "def get_subjlist():\n",
    "    if subj_subset == None:\n",
    "        subjlist = [fl for fl in sorted(os.listdir(rsfmri_dir)) \n",
    "                    if fnmatch.fnmatch(fl, subj_prefix)]\n",
    "    else:    \n",
    "        subjlist = subj_subset\n",
    "    return subjlist\n",
    "    \n",
    "def get_num_vols(subj):\n",
    "    if ran_topup == True:\n",
    "        rest_file = os.path.join(rsfmri_dir, subj, 'resting', 'timeseries', 'rest_01_roi_corrected.nii.gz')\n",
    "    else:\n",
    "        rest_file = os.path.join(rsfmri_dir, subj, 'resting', 'timeseries', 'rest_01.nii.gz')\n",
    "    rest_img = nb.load(rest_file)\n",
    "    return rest_img.shape[3]"
   ]
  },
  {
   "cell_type": "markdown",
   "metadata": {},
   "source": [
    "# Registration #"
   ]
  },
  {
   "cell_type": "code",
   "execution_count": null,
   "metadata": {
    "collapsed": true
   },
   "outputs": [],
   "source": [
    "def plot_anat(subj_path, title, fig=None, ax=None):\n",
    "    anat2target = os.path.join(subj_path, 'resting', 'qa', 'ants', 'output_warped_image.nii.gz')\n",
    "    close = False\n",
    "    if ax is None:\n",
    "        fig = plt.figure(figsize=(5, 2))\n",
    "        ax = fig.gca()\n",
    "        close = True\n",
    "    display = nlp.plot_anat(anat_img=anat2target, cut_coords=(0, -13, 20), annotate=False,\n",
    "                            draw_cross=False, title=title, figure=fig, axes=ax)\n",
    "    if close:\n",
    "        plt.show()\n",
    "        display.close()"
   ]
  },
  {
   "cell_type": "markdown",
   "metadata": {},
   "source": [
    "### Check registration of structural to MNI template ###\n",
    "\n",
    "Displays cross-sections of the output of ANTS registration (the structural image warped to the MNI template)."
   ]
  },
  {
   "cell_type": "code",
   "execution_count": null,
   "metadata": {
    "collapsed": false,
    "scrolled": false
   },
   "outputs": [],
   "source": [
    "subjlist = get_subjlist()\n",
    "for subj in subjlist:\n",
    "    plot_anat(os.path.join(rsfmri_dir, subj), title=subj)"
   ]
  },
  {
   "cell_type": "markdown",
   "metadata": {},
   "source": [
    "# Outliers #"
   ]
  },
  {
   "cell_type": "code",
   "execution_count": null,
   "metadata": {
    "collapsed": false
   },
   "outputs": [],
   "source": [
    "def count_outliers(subj_path):\n",
    "    if ran_topup == True:\n",
    "        outlier_file = os.path.join(subj_path,'resting', 'qa', 'art', \n",
    "                                    'art.rest_01_roi_corrected_outliers.txt')\n",
    "    else:\n",
    "        outlier_file = os.path.join(subj_path,'resting', 'qa', 'art', \n",
    "                                    'art.rest_01_outliers.txt')\n",
    "    with warnings.catch_warnings():\n",
    "        warnings.simplefilter(\"ignore\")\n",
    "        outliers = np.genfromtxt(outlier_file)\n",
    "    return np.prod(outliers.shape)"
   ]
  },
  {
   "cell_type": "markdown",
   "metadata": {},
   "source": [
    "### Check percentage of outliers per run ###\n",
    "\n",
    "Displays a heatmap of the percentage of outliers detected in the resting state time series. Darker = more outliers."
   ]
  },
  {
   "cell_type": "code",
   "execution_count": null,
   "metadata": {
    "collapsed": false
   },
   "outputs": [],
   "source": [
    "df = pd.DataFrame()\n",
    "subjlist = get_subjlist()\n",
    "for idx, subj in enumerate(subjlist):\n",
    "    num_outliers = count_outliers(os.path.join(rsfmri_dir, subj)) \n",
    "    num_vols = get_num_vols(subj)\n",
    "    perc_outliers = float(num_outliers)/num_vols\n",
    "    df.set_value(subj, 'percent_outliers', perc_outliers)\n",
    "    \n",
    "sns.set(context=\"poster\", font=\"monospace\")\n",
    "f, ax = plt.subplots(figsize=(2, 0.4*len(df.index)))\n",
    "sns.heatmap(df, linewidths=0, annot=True, vmax=outlier_threshold/100., vmin=0)\n",
    "outlier_df = df"
   ]
  },
  {
   "cell_type": "markdown",
   "metadata": {},
   "source": [
    "### If you ran the previous cell and would like the outlier percentages outputted in csv form: ###\n",
    "\n",
    "Indicate an output directory for the csv file below. "
   ]
  },
  {
   "cell_type": "code",
   "execution_count": null,
   "metadata": {
    "collapsed": true
   },
   "outputs": [],
   "source": [
    "csv_outdir = '/path/to/csv/outdir/'  # USER OPTION\n",
    "\n",
    "outlier_df.to_csv(os.path.join(csv_outdir, 'outlier_summary.csv'))"
   ]
  },
  {
   "cell_type": "markdown",
   "metadata": {},
   "source": [
    "# Segmentation Masks #"
   ]
  },
  {
   "cell_type": "code",
   "execution_count": null,
   "metadata": {
    "collapsed": true
   },
   "outputs": [],
   "source": [
    "def plot_mask(subj_path, mask, title, fig=None, ax=None):\n",
    "    bg = os.path.join(subj_path, 'resting', 'mask_files', 'native_brain_mask.nii.gz')\n",
    "    close = False\n",
    "    if ax is None:\n",
    "        fig = plt.figure(figsize=(5, 2))\n",
    "        ax = fig.gca()\n",
    "        close = True\n",
    "    display = nlp.plot_roi(roi_img=mask, bg_img=bg, black_bg=True, display_mode='ortho',\n",
    "                           draw_cross=False, figure=fig, axes=ax, title=title)\n",
    "    if close:\n",
    "        plt.show()\n",
    "        display.close()\n",
    "    \n",
    "def count_noise_regressors(subj_path):\n",
    "    noise_components = pd.read_csv(os.path.join(subj_path, 'resting', 'regress', \n",
    "                                            '_makecompcorrfilter0', 'noise_components.txt'), \n",
    "                               delimiter=' ', header=None)\n",
    "    num_noise_regressors = len(noise_components.columns)\n",
    "    return num_noise_regressors"
   ]
  },
  {
   "cell_type": "markdown",
   "metadata": {},
   "source": [
    "### Check that the CSF and WM masks were correctly segmented ###\n",
    "\n",
    "Displays cross-sections of the segmentations (blue, binarized) produced by FSL's FAST tool, overlaid on a mask of the median functional image. Check to see if any of the segmentation masks are empty files."
   ]
  },
  {
   "cell_type": "code",
   "execution_count": null,
   "metadata": {
    "collapsed": false
   },
   "outputs": [],
   "source": [
    "subjlist = get_subjlist()\n",
    "for subj in subjlist:\n",
    "    mask_dir = os.path.join(rsfmri_dir, subj, 'resting', 'mask_files')\n",
    "    csf_mask = os.path.join(mask_dir, 'T1_out_masked_pve_0_maths_warped.nii.gz')\n",
    "    wm_mask = os.path.join(mask_dir, 'T1_out_masked_pve_2_maths_warped.nii.gz')\n",
    "    fig, ax = plt.subplots(1, 2, figsize=(10, 3))\n",
    "    for i, seg in enumerate([(csf_mask, 'csf'), (wm_mask, 'wm')]):\n",
    "        plot_mask(os.path.join(rsfmri_dir, subj), seg[0], subj+'-'+seg[1], fig=fig, ax=ax[i])\n",
    "    plt.show()\n",
    "    plt.close(fig)"
   ]
  },
  {
   "cell_type": "markdown",
   "metadata": {},
   "source": [
    "### Check if GLM of noise components contains incorrect number of regressors (due to FAST breaking) ###\n",
    "\n",
    "Supplement to the previous cell. If FAST did not produce the correct segmentations, the GLM used for regressing out physiological noise will not contain the expected number of noise components. This cell prints out any subjects that do not have the expected number.  "
   ]
  },
  {
   "cell_type": "code",
   "execution_count": null,
   "metadata": {
    "collapsed": false
   },
   "outputs": [],
   "source": [
    "subjlist = get_subjlist()\n",
    "for subj in subjlist:\n",
    "    num_noise_regressors = count_noise_regressors(os.path.join(rsfmri_dir, subj))\n",
    "    num_outliers = count_outliers(os.path.join(rsfmri_dir, subj))\n",
    "    if 25 + num_outliers != num_noise_regressors:\n",
    "        print subj"
   ]
  },
  {
   "cell_type": "markdown",
   "metadata": {},
   "source": [
    "# Topup #\n",
    "\n",
    "(To be added.)"
   ]
  },
  {
   "cell_type": "markdown",
   "metadata": {},
   "source": [
    "---\n",
    "# Extracting the average time series from aparc ROIs\n",
    "\n",
    "The preprocessing script already does this (samples in functional space), but outputs all of the aparc ROIs together in a single file. The following cells can be used to help parse out the particular ROIs you're interested in.\n",
    "\n",
    "**Note**: here we're sampling from the unsmoothed functional data; there is also smoothed data available.\n",
    "\n",
    "Each subject output directory has a parcellations/aparc/rest_01_summary.stats file - check one of these files to see how the different FreeSurfer ROIs are named, and enter them into the roi_list variable below:"
   ]
  },
  {
   "cell_type": "code",
   "execution_count": 131,
   "metadata": {
    "collapsed": true
   },
   "outputs": [],
   "source": [
    "roi_list = ['ctx-lh-parsopercularis', 'ctx-rh-rostralmiddlefrontal']"
   ]
  },
  {
   "cell_type": "markdown",
   "metadata": {},
   "source": [
    "The next cell will output a csv file containing the time series of each ROI given in roi_list, for each subject in your subjlist. Indicate an output directory for the csv file below. "
   ]
  },
  {
   "cell_type": "code",
   "execution_count": 139,
   "metadata": {
    "collapsed": false
   },
   "outputs": [],
   "source": [
    "csv_outdir = '/path/to/csv/outdir/'   # USER OPTION\n",
    "\n",
    "subjlist = get_subjlist()\n",
    "for subj in subjlist:\n",
    "    summary = pd.read_csv(os.path.join(rsfmri_dir, subj, 'resting', 'parcellations', 'aparc', \n",
    "                                       'rest_01_summary.stats'), \n",
    "                          header=None, comment='#', delim_whitespace=True, index_col=0)\n",
    "    meants_df = pd.DataFrame()\n",
    "    for roi in roi_list:\n",
    "        roi_idx = summary[summary[4].str.contains(roi)].index.values\n",
    "        meants = pd.read_csv(os.path.join(rsfmri_dir, subj, 'resting', 'parcellations', 'aparc', \n",
    "                                          'rest_01_avgwf.txt'), \n",
    "                             header=None, delim_whitespace=True, usecols=roi_idx-1, names=[roi])\n",
    "        meants_df = pd.concat([meants_df, meants], axis=1)\n",
    "    meants_df.to_csv(os.path.join(csv_outdir, '%s_rest_aparc_meants.csv' % subj), sep='\\t', index=False)"
   ]
  }
 ],
 "metadata": {
  "kernelspec": {
   "display_name": "Python 2",
   "language": "python",
   "name": "python2"
  },
  "language_info": {
   "codemirror_mode": {
    "name": "ipython",
    "version": 2
   },
   "file_extension": ".py",
   "mimetype": "text/x-python",
   "name": "python",
   "nbconvert_exporter": "python",
   "pygments_lexer": "ipython2",
   "version": "2.7.12"
  }
 },
 "nbformat": 4,
 "nbformat_minor": 0
}
